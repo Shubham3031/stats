{
 "cells": [
  {
   "cell_type": "code",
   "execution_count": 7,
   "id": "d43c91bb-3091-4b73-8017-2a96c5f133f8",
   "metadata": {},
   "outputs": [
    {
     "name": "stdout",
     "output_type": "stream",
     "text": [
      "P-value: 0.09434977284243756\n"
     ]
    }
   ],
   "source": [
    "# 20.Ans.\n",
    "\n",
    "from scipy import stats\n",
    "def perform_hypothesis_test(n1,n2):\n",
    "    t_statistics,p_value=stats.ttest_ind(n1,n2)\n",
    "    return p_value\n",
    "\n",
    "n1 = [5, 10, 15, 20, 25]\n",
    "n2= [10, 20, 30, 40, 50]\n",
    "p_value = perform_hypothesis_test(n1,n2)\n",
    "print(\"P-value:\", p_value)\n",
    "\n"
   ]
  },
  {
   "cell_type": "code",
   "execution_count": null,
   "id": "57108724-8016-44d7-a80c-2596d074bdde",
   "metadata": {},
   "outputs": [],
   "source": []
  }
 ],
 "metadata": {
  "kernelspec": {
   "display_name": "Python 3 (ipykernel)",
   "language": "python",
   "name": "python3"
  },
  "language_info": {
   "codemirror_mode": {
    "name": "ipython",
    "version": 3
   },
   "file_extension": ".py",
   "mimetype": "text/x-python",
   "name": "python",
   "nbconvert_exporter": "python",
   "pygments_lexer": "ipython3",
   "version": "3.10.6"
  }
 },
 "nbformat": 4,
 "nbformat_minor": 5
}
